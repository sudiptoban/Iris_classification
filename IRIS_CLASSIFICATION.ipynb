{
 "cells": [
  {
   "cell_type": "code",
   "execution_count": 1,
   "metadata": {},
   "outputs": [
    {
     "name": "stdout",
     "output_type": "stream",
     "text": [
      "dict_keys(['data', 'target', 'target_names', 'DESCR', 'feature_names', 'filename'])\n"
     ]
    },
    {
     "data": {
      "text/plain": [
       "<Figure size 640x480 with 1 Axes>"
      ]
     },
     "metadata": {},
     "output_type": "display_data"
    },
    {
     "data": {
      "text/plain": [
       "<Figure size 640x480 with 1 Axes>"
      ]
     },
     "metadata": {},
     "output_type": "display_data"
    },
    {
     "name": "stdout",
     "output_type": "stream",
     "text": [
      "(1, 4)\n",
      "[0]\n",
      "['setosa']\n",
      "97.36842105263158\n"
     ]
    }
   ],
   "source": [
    "from sklearn.datasets import load_iris\n",
    "import matplotlib.pyplot as plt\n",
    "iris = load_iris() ##store the entire dataset in the variable iris\n",
    "\n",
    "#the iris variable is in the form of a dectionary\n",
    "print(iris.keys()) #display name of the keys\n",
    "\n",
    "features = iris.data.T ##finding transpose of the dataset \n",
    "\n",
    "sepal_length = features[0] ##storing all sepal lengths in sepal_length variable\n",
    "sepal_width = features[1]  ##storing all sepal widths in sepal_width variable\n",
    "petal_length = features[2] ##storing all petal lengths in petal_length variable\n",
    "petal_width = features[3]  ##storing all petal widths in petal_length variable\n",
    "\n",
    "sepal_length_label = iris.feature_names[0] ##store label name\n",
    "sepal_width_label = iris.feature_names[1]\n",
    "petal_length_label = iris.feature_names[2]\n",
    "petal_width_label = iris.feature_names[3]\n",
    "\n",
    "plt.scatter(sepal_length, sepal_width, c=iris.target) ##sepal_length vs sepal_width with target as data points\n",
    "plt.xlabel(sepal_length_label) #give name of x-axis\n",
    "plt.ylabel(sepal_width_label) #give name of y-axis\n",
    "plt.show()\n",
    "\n",
    "plt.scatter(petal_length, sepal_width, c=iris.target)\n",
    "plt.xlabel(petal_length_label)\n",
    "plt.ylabel(sepal_width_label)\n",
    "plt.show()\n",
    "\n",
    "from sklearn.model_selection import train_test_split\n",
    "from sklearn.neighbors import KNeighborsClassifier\n",
    "import numpy as np\n",
    "\n",
    "X_train, X_test, y_train, y_test = train_test_split(iris['data'], iris['target'], random_state=0)\n",
    "knn = KNeighborsClassifier(n_neighbors=1)\n",
    "\n",
    "knn.fit(X_train, y_train)\n",
    "X_new = np.array([[5, 2.9, 1, 0.2]]) #we make a new set of attributes to check our model prediction  \n",
    "print(X_new.shape) #show us the shape of our new variable\n",
    "\n",
    "\n",
    "prediction = knn.predict(X_new) #use our model to offer a prediction as to  what species our X_new corresponds to\n",
    "print(prediction)\n",
    "\n",
    "print(iris['target_names'][prediction])\n",
    "\n",
    "print(knn.score(X_test, y_test)*100) #find accuracy"
   ]
  },
  {
   "cell_type": "code",
   "execution_count": null,
   "metadata": {},
   "outputs": [],
   "source": []
  }
 ],
 "metadata": {
  "kernelspec": {
   "display_name": "Python 3",
   "language": "python",
   "name": "python3"
  },
  "language_info": {
   "codemirror_mode": {
    "name": "ipython",
    "version": 3
   },
   "file_extension": ".py",
   "mimetype": "text/x-python",
   "name": "python",
   "nbconvert_exporter": "python",
   "pygments_lexer": "ipython3",
   "version": "3.7.4"
  }
 },
 "nbformat": 4,
 "nbformat_minor": 2
}
